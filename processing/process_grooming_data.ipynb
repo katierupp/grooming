{
 "cells": [
  {
   "cell_type": "code",
   "execution_count": null,
   "source": [
    "%matplotlib inline\n",
    "%run /media/turritopsis/katie/grooming/t1-grooming/grooming_functions.ipynb\n",
    "\n",
    "import os \n",
    "import pandas as pd \n",
    "import numpy as np\n",
    "import matplotlib.pyplot as plt\n",
    "import seaborn as sns\n",
    "import warnings\n",
    "from scipy import signal, stats\n",
    "\n",
    "warnings.filterwarnings('ignore')"
   ],
   "outputs": [],
   "metadata": {}
  },
  {
   "cell_type": "code",
   "execution_count": null,
   "source": [
    "behavior = 't1_grooming'\n",
    "prefix = '/media/turritopsis/pierre/gdrive/Tuthill Lab Shared/Pierre/summaries/v3-b2/days'\n",
    "prefix_out = '/media/turritopsis/katie/grooming/summaries/v3-b2'\n",
    "path_out = os.path.join(prefix_out, behavior + '_processed.parquet')"
   ],
   "outputs": [],
   "metadata": {}
  },
  {
   "cell_type": "code",
   "execution_count": null,
   "source": [
    "(root, dirs, files) = next(os.walk(prefix))\n",
    "files = sorted(files)\n",
    "max_bout = 0\n",
    "datas = []\n",
    "\n",
    "for file in files:\n",
    "    print(file)\n",
    "    path = os.path.join(prefix, file)\n",
    "    data = pd.read_parquet(path, engine='fastparquet')\n",
    "    dsub = data[data[behavior + '_class']]\n",
    "    dsub = dsub[~dsub.date.isnull()]\n",
    "    bout_var = behavior + '_bout_number' \n",
    "    dsub.loc[:, bout_var] += max_bout\n",
    "    max_bout = np.max(dsub[bout_var])\n",
    "    datas.append(dsub)\n",
    "\n",
    "data = pd.concat(datas)"
   ],
   "outputs": [],
   "metadata": {}
  },
  {
   "cell_type": "code",
   "execution_count": null,
   "source": [
    "data['behavior_bout'] = data[behavior + '_bout_number']\n",
    "data['flyid'] = data['fly'].astype(str) + ' ' + data['date'].astype(str)\n",
    "data = remove_short_bouts(data, 50)\n",
    "data = adjust_bout_numbers(data)"
   ],
   "outputs": [],
   "metadata": {}
  },
  {
   "cell_type": "code",
   "execution_count": null,
   "source": [
    "# load data\n",
    "def adjust_rot_angles(angles, angle_names):\n",
    "    conds = ['2', '3', 'L1A', 'L1B', 'L1C', 'R1A', 'R1B', 'R1C']\n",
    "    offsets = np.array([-50, -20, 20, -70, 10, 20, 70, -30])\n",
    "    for j in range(len(conds)):\n",
    "        rot_angs = [r for r in angle_names if '_rot' in r and conds[j] in r]\n",
    "        for ang in rot_angs:\n",
    "            r = np.array(angles[ang])\n",
    "            r[r > offsets[j]] = r[r > offsets[j]] - 360\n",
    "            angles[ang] = r\n",
    "        \n",
    "    abduct_angs = [r for r in angle_names if '_abduct' in r or 'A_flex' in r]\n",
    "    for ang in abduct_angs:\n",
    "        r = np.array(angles[ang])\n",
    "        r[r > 50] = r[r > 50] - 360\n",
    "        angles[ang] = r\n",
    "        \n",
    "    return angles\n",
    "\n",
    "angle_vars = np.unique([v for v in data.columns\n",
    "              if some_contains(v, ['_BC', '_flex', '_rot', '_abduct'])\n",
    "              and not some_contains(v, ['_d1', '_d2', '_freq', '_range'])])\n",
    "data = correct_angles(data, angle_vars)\n",
    "data = adjust_rot_angles(data, angle_vars)"
   ],
   "outputs": [],
   "metadata": {}
  },
  {
   "cell_type": "code",
   "execution_count": null,
   "source": [
    "fly_data, fly_names_sorted = data_per_fly(data)"
   ],
   "outputs": [],
   "metadata": {}
  },
  {
   "cell_type": "code",
   "execution_count": null,
   "source": [
    "# remove head_grooming from t1_grooming data\n",
    "features = [v for v in data.columns\n",
    "              if some_contains(v, ['_flex', '_rot', '_x', '_y', '_z'])\n",
    "              and not some_contains(v, ['_d1', '_d2', '_freq', '_range'])\n",
    "              and v[:2] == 'L1']\n",
    "feature_names= ['L1B_rot_avg_range', 'L1A_flex_avg_range', 'L1E_z_avg_range', 'L1D_z', 'L1E_z']\n",
    "flip = [False, False, False, True, True]\n",
    "data = compute_grooming_scores(data, features, feature_names, flip = flip, dist=20, norm=False)\n",
    "data = data[data.grooming_score < 8.25]\n",
    "data = data[data.grooming_score > 1.6]"
   ],
   "outputs": [],
   "metadata": {}
  },
  {
   "cell_type": "code",
   "execution_count": null,
   "source": [
    "# add velocity and acceleration columns to data\n",
    "fps = 300.0\n",
    "bout_numbers = np.unique(np.array(data.behavior_bout))\n",
    "angle_vars = [v for v in data.columns\n",
    "              if some_contains(v, ['_flex', '_abduct', '_rot', '_BC'])\n",
    "              and not some_contains(v, ['_d1', '_d2', '_freq', '_range'])]\n",
    "\n",
    "dt = 1/fps\n",
    "s = 1.0/dt\n",
    "s2 = 1.0 / (dt * dt)\n",
    "\n",
    "for j in range(len(bout_numbers)):\n",
    "    mask = data.behavior_bout == bout_numbers[j]\n",
    "    bout_df = data.loc[mask]\n",
    "    for ang in angle_vars:\n",
    "        bout = np.array(bout_df[ang])\n",
    "        data.loc[mask, ang + '_d1'] = signal.savgol_filter(bout, 5, 3, deriv=1) * s\n",
    "        data.loc[mask, ang + '_d2'] = signal.savgol_filter(bout, 5, 3, deriv=2) * s2"
   ],
   "outputs": [],
   "metadata": {}
  },
  {
   "cell_type": "code",
   "execution_count": null,
   "source": [
    "cols_good = np.unique([v for v in data.columns\n",
    "              if not some_contains(v, ['_score', '_error', '_ncams', '_prob', '_class', '_bout_number'])])\n",
    "data[cols_good]"
   ],
   "outputs": [],
   "metadata": {}
  },
  {
   "cell_type": "code",
   "execution_count": null,
   "source": [
    "path_out = os.path.join(prefix_out, behavior + '_angles_coords.parquet')\n",
    "data.to_parquet(path_out, compression = 'gzip')"
   ],
   "outputs": [],
   "metadata": {}
  },
  {
   "cell_type": "code",
   "execution_count": null,
   "source": [
    "cols_good = np.unique([v for v in data.columns\n",
    "              if not some_contains(v, ['walking_class'])])\n",
    "data = data[cols_good]"
   ],
   "outputs": [],
   "metadata": {
    "scrolled": true
   }
  },
  {
   "cell_type": "code",
   "execution_count": null,
   "source": [
    "print(len(data))\n",
    "print(len(np.unique(data.behavior_bout)))"
   ],
   "outputs": [],
   "metadata": {}
  }
 ],
 "metadata": {
  "kernelspec": {
   "display_name": "Python 3",
   "language": "python",
   "name": "python3"
  },
  "language_info": {
   "codemirror_mode": {
    "name": "ipython",
    "version": 3
   },
   "file_extension": ".py",
   "mimetype": "text/x-python",
   "name": "python",
   "nbconvert_exporter": "python",
   "pygments_lexer": "ipython3",
   "version": "3.5.2"
  }
 },
 "nbformat": 4,
 "nbformat_minor": 4
}