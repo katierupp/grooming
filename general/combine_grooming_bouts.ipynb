{
 "cells": [
  {
   "cell_type": "code",
   "execution_count": 1,
   "metadata": {},
   "outputs": [],
   "source": [
    "# process all of the t1 grooming data by concatenating the bouts from\n",
    "# all days for which we have data, assign unique bout numbers\n",
    "import os \n",
    "import numpy as np \n",
    "import pandas as pd"
   ]
  },
  {
   "cell_type": "code",
   "execution_count": null,
   "metadata": {},
   "outputs": [],
   "source": [
    "def extract_grooming_bouts(path):\n",
    "    \n",
    "    angles_path = os.path.join(path, 'angles_fictrac.csv')\n",
    "    pose3d_path = os.path.join(path, 'pose_3d_fictrac.csv')\n",
    "    labels_path = os.path.join(os.path.dirname(path), 'behavior_labels.csv')\n",
    "    \n",
    "    angles = pd.read_csv(angles_path, engine = 'python', sep = None)\n",
    "    pose3d = pd.read_csv(pose3d_path, engine = 'python', sep = None)\n",
    "    labels = pd.read_csv(labels_path, engine = 'python', sep = None)\n",
    "    \n",
    "    angles_merged = pd.merge(angles, labels, how='outer')\n",
    "    pose3d_merged = pd.merge(pose3d, labels, how='outer') \n",
    "    \n",
    "    angles_grooming = angles_merged[angles_merged.behavior == 'T1_grooming']\n",
    "    pose3d_grooming = pose3d_merged[pose3d_merged.behavior == 'T1_grooming']\n",
    "    angles_grooming.to_csv(os.path.join(path, 'angles_fictrac_grooming.csv'))\n",
    "    pose3d_grooming.to_csv(os.path.join(path, 'pose_3d_fictrac_grooming.csv'))\n",
    "    \n",
    "# assign a unique bout number to each bout (previously had duplicates due\n",
    "# to running experiments on different days)\n",
    "def adjust_bout_numbers(angles, pose3d, cumulative_bouts):\n",
    "    \n",
    "    bout_numbers = np.unique(angles.behavior_bout)\n",
    "    bout_numbers_new = np.arange(cumulative_bouts, len(bout_numbers), 1)\n",
    "    cumulative_bouts = cumulative_bouts + len(bout_numbers)\n",
    "    \n",
    "    for j in range(len(bout_numbers)):\n",
    "        \n",
    "        angles['behavior_bout'].replace({bout_numbers[j]:bout_numbers_new[j]}, inplace=True)\n",
    "        pose3d['behavior_bout'].replace({bout_numbers[j]:bout_numbers_new[j]}, inplace=True)\n",
    "    \n",
    "    return angles, pose3d, cumulative_bouts\n",
    "\n",
    "\n",
    "# removes grooming bouts from dataset that are less than a specified \n",
    "# number of frames (too short to analyze)\n",
    "def remove_short_bouts(angles, pose3d, min_frames):    \n",
    "    \n",
    "    bout_numbers = np.unique(angles.behavior_bout)\n",
    "    bout_lengths = np.zeros(bout_numbers.shape)\n",
    "    for j in range(len(bout_numbers)):\n",
    "        bout_lengths[j] = len(angles[angles.behavior_bout == bout_numbers[j]])\n",
    "    \n",
    "    saved_bouts = bout_lengths[bout_lengths >= min_frames]\n",
    "    angles_new = angles[output_angles.behavior_bout.isin(saved_bouts)]\n",
    "    pose3d_new = pose3d[output_pose3d.behavior_bout.isin(saved_bouts)]\n",
    "    \n",
    "    return angles_new, pose3d_new"
   ]
  },
  {
   "cell_type": "code",
   "execution_count": null,
   "metadata": {},
   "outputs": [],
   "source": [
    "data_path = r'/media/turritopsis/katie/grooming/t1-grooming/data\n",
    "save_path = r'/media/turritopsis/katie/grooming/t1-grooming/data'\n",
    "out_path_angles = os.path.join(save_path, 'grooming_combined_angles.csv')\n",
    "out_path_pose3d = os.path.join(save_path, 'grooming_combined_pose3d.csv')"
   ]
  },
  {
   "cell_type": "code",
   "execution_count": null,
   "metadata": {},
   "outputs": [],
   "source": [
    "# combine all grooming bouts, assign a unique bout number, and save\n",
    "# angles and pose3d to separate csv files\n",
    "(root, dirs, files) = next(os.walk(data_path))\n",
    "dirs = sorted(dirs)\n",
    "cumulative_bouts = 0\n",
    "output_angles = pd.DataFrame()\n",
    "output_pose3d = pd.DataFrame()\n",
    "\n",
    "for directory in dirs:\n",
    "    folder = os.path.join(path, directory)#, 'summaries')\n",
    "    # extract_grooming_bouts(folder)\n",
    "    angles = pd.read_csv(os.path.join(folder, 'angles_fictrac_grooming.csv'), engine = 'python', sep = None, index_col = False)\n",
    "    pose3d = pd.read_csv(os.path.join(folder, 'pose_3d_fictrac_grooming.csv'), engine = 'python', sep = None, index_col = False)\n",
    "    angles, pose3d, cumulative_bouts = adjust_bout_numbers(angles, pose3d, cumulative_bouts)\n",
    "    output_angles = output_angles.append(angles)\n",
    "    output_pose3d = output_pose3d.append(pose3d)\n",
    "     \n",
    "output_angles.to_csv(out_path_angles)\n",
    "output_pose3d.to_csv(out_path_pose3d)"
   ]
  },
  {
   "cell_type": "code",
   "execution_count": null,
   "metadata": {},
   "outputs": [],
   "source": [
    "# removes grooming bouts from dataset that are less than a \n",
    "# specified number of frames (too short to analyze)\n",
    "min_frames = 100\n",
    "angles = pd.read_csv(out_path_angles, index_col = False)\n",
    "pose3d = pd.read_csv(out_path_pose3d, index_col = False)\n",
    "angles_new, pose3d_new = remove_short_bouts(angles, pose3d, min_frames)\n",
    "angles_new.to_csv(os.path.join(path, 'grooming_combined_cleaned_angles.csv'))\n",
    "pose3d_new.to_csv(os.path.join(path, 'grooming_combined_cleaned_pose3d.csv'))"
   ]
  }
 ],
 "metadata": {
  "kernelspec": {
   "display_name": "Python 3",
   "language": "python",
   "name": "python3"
  },
  "language_info": {
   "codemirror_mode": {
    "name": "ipython",
    "version": 3
   },
   "file_extension": ".py",
   "mimetype": "text/x-python",
   "name": "python",
   "nbconvert_exporter": "python",
   "pygments_lexer": "ipython3",
   "version": "3.7.7"
  }
 },
 "nbformat": 4,
 "nbformat_minor": 4
}
