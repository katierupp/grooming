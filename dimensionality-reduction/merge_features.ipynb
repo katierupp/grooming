{
 "cells": [
  {
   "cell_type": "code",
   "execution_count": 34,
   "metadata": {},
   "outputs": [],
   "source": [
    "# merge grooming angles and grooming coords from wt flies (5.22.19, 5.24.19, and 5.27.19)\n",
    "# manual labels with qualitative grooming observations (height, concentration, \n",
    "# left/right bias, etc)\n",
    "\n",
    "import re\n",
    "import umap\n",
    "import os.path\n",
    "import fnmatch\n",
    "import warnings\n",
    "import numpy as np\n",
    "import pandas as pd\n",
    "import seaborn as sns\n",
    "import matplotlib.pyplot as plt\n",
    "from scipy import signal, stats\n",
    "from matplotlib.patches import Patch\n",
    "from sklearn.decomposition import PCA\n",
    "from sklearn.manifold import TSNE\n",
    "\n",
    "warnings.filterwarnings('ignore')"
   ]
  },
  {
   "cell_type": "code",
   "execution_count": 35,
   "metadata": {},
   "outputs": [],
   "source": [
    "def adjust_bout_numbers(angles, pose3d, cumulative_bouts):\n",
    "    \n",
    "    bout_numbers, index = np.unique(angles.behavior_bout, return_index = True)\n",
    "    bout_numbers_sorted = bout_numbers[index.argsort()]\n",
    "    bout_numbers_new = np.arange(cumulative_bouts, cumulative_bouts + len(bout_numbers), 1)\n",
    "    cumulative_bouts = cumulative_bouts + len(bout_numbers)\n",
    "    \n",
    "    for j in range(len(bout_numbers_sorted)):\n",
    "        \n",
    "        angles['behavior_bout'].replace({bout_numbers_sorted[j]:bout_numbers_new[j]}, inplace=True)\n",
    "        pose3d['behavior_bout'].replace({bout_numbers_sorted[j]:bout_numbers_new[j]}, inplace=True)\n",
    "    \n",
    "    return angles, pose3d, cumulative_bouts"
   ]
  },
  {
   "cell_type": "code",
   "execution_count": 42,
   "metadata": {},
   "outputs": [],
   "source": [
    "# load training data (angles, pose3d, behaviors)\n",
    "prefix = r'/media/turritopsis/katie/behavior-classifier'\n",
    "angles_path = os.path.join(prefix, 'angles_fictrac_training.csv')\n",
    "data_path = os.path.join(prefix, 'pose3d_fictrac_training.csv')\n",
    "behaviors_path = os.path.join(prefix, 'behavior_labels_training.csv')\n",
    "features_path = os.path.join(prefix, 'behavior_labels_features.csv')\n",
    "\n",
    "FPS = 300.0 # I happen to know this for this dataset\n",
    "\n",
    "data = pd.read_csv(data_path)\n",
    "angles = pd.read_csv(angles_path)\n",
    "behaviors = pd.read_csv(behaviors_path, index_col = False)\n",
    "behaviors = behaviors[behaviors.filename.isin(angles.filename)]"
   ]
  },
  {
   "cell_type": "code",
   "execution_count": 43,
   "metadata": {},
   "outputs": [],
   "source": [
    "angles = pd.read_csv(angles_path, engine = 'python', sep = None)\n",
    "pose3d = pd.read_csv(data_path, engine = 'python', sep = None)\n",
    "behaviors = pd.read_csv(behaviors_path, engine = 'python', sep = None)\n",
    "features = pd.read_csv(features_path, engine = 'python', sep = None)\n",
    "\n",
    "angles_merged = pd.merge(angles, behaviors, how='outer')\n",
    "pose3d_merged = pd.merge(pose3d, behaviors, how='outer') \n",
    "\n",
    "angles_grooming = angles_merged[angles_merged.behavior == 'T1_grooming']\n",
    "pose3d_grooming = pose3d_merged[pose3d_merged.behavior == 'T1_grooming']\n",
    "#angles_grooming.to_csv(os.path.join(path, 'angles_fictrac_grooming_labeled.csv'))\n",
    "#pose3d_grooming.to_csv(os.path.join(path, 'pose_3d_fictrac_grooming_labeled.csv'))"
   ]
  },
  {
   "cell_type": "code",
   "execution_count": 44,
   "metadata": {},
   "outputs": [],
   "source": [
    "angles_grooming = angles_grooming[~angles_grooming.isnull()]\n",
    "angles_grooming = angles_grooming.sort_values(by = 'filename')\n",
    "pose3d_grooming = pose3d_grooming[~pose3d_grooming.isnull()]\n",
    "pose3d_grooming = pose3d_grooming.sort_values(by = 'filename')\n",
    "feature_grooming = features.sort_values(by = 'filename')\n",
    "angles_grooming, pose3d_grooming, cumulative_bouts = adjust_bout_numbers(angles_grooming, pose3d_grooming, 1)"
   ]
  },
  {
   "cell_type": "code",
   "execution_count": 45,
   "metadata": {},
   "outputs": [],
   "source": [
    "bout_numbers = np.unique(angles_grooming.behavior_bout)\n",
    "label_types = ['height', 'concentration', 'motion_bias', 'synchronicity', 'side_bias']\n",
    "features_df = pd.DataFrame(columns = label_types)\n",
    "for j in range(len(bout_numbers)):\n",
    "    \n",
    "    bout_length = len(angles_grooming[angles_grooming['behavior_bout'] == bout_numbers[j]])\n",
    "    row = features[features['bout_number'] == bout_numbers[j]][label_types]\n",
    "    rows = pd.concat([row]*bout_length)\n",
    "    features_df = features_df.append(rows)"
   ]
  },
  {
   "cell_type": "code",
   "execution_count": 46,
   "metadata": {},
   "outputs": [],
   "source": [
    "features_df = features_df.reset_index(drop = True)\n",
    "angles_grooming = angles_grooming.reset_index(drop = True)\n",
    "pose3d_grooming = pose3d_grooming.reset_index(drop = True)\n",
    "features_angles = angles_grooming.join(features_df)\n",
    "features_pose3d = pose3d_grooming.join(features_df)"
   ]
  },
  {
   "cell_type": "code",
   "execution_count": 47,
   "metadata": {},
   "outputs": [],
   "source": [
    "features_angles.to_csv(os.path.join(prefix, 'angles_fictrac_grooming_features.csv'))\n",
    "features_pose3d.to_csv(os.path.join(prefix, 'pose_3d_fictrac_grooming_features.csv'))"
   ]
  },
  {
   "cell_type": "code",
   "execution_count": null,
   "metadata": {},
   "outputs": [],
   "source": []
  }
 ],
 "metadata": {
  "kernelspec": {
   "display_name": "Python 3",
   "language": "python",
   "name": "python3"
  },
  "language_info": {
   "codemirror_mode": {
    "name": "ipython",
    "version": 3
   },
   "file_extension": ".py",
   "mimetype": "text/x-python",
   "name": "python",
   "nbconvert_exporter": "python",
   "pygments_lexer": "ipython3",
   "version": "3.7.7"
  }
 },
 "nbformat": 4,
 "nbformat_minor": 4
}
